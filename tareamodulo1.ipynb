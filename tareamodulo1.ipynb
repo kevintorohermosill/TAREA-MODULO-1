{
  "nbformat": 4,
  "nbformat_minor": 0,
  "metadata": {
    "colab": {
      "provenance": []
    },
    "kernelspec": {
      "name": "python3",
      "display_name": "Python 3"
    },
    "language_info": {
      "name": "python"
    }
  },
  "cells": [
    {
      "cell_type": "markdown",
      "source": [],
      "metadata": {
        "id": "d3UTOk4BLECd"
      }
    },
    {
      "cell_type": "code",
      "source": [
        "class Producto:\n",
        "    def __init__(self, id, nombre, descripcion, cantidad, precio):\n",
        "        # El método __init__ es el constructor de la clase Producto. Se llama automáticamente al crear un nuevo objeto Producto.\n",
        "        # Recibe como parámetros id, nombre, descripcion, cantidad y precio para inicializar los atributos del producto.\n",
        "        # Los atributos id, nombre, descripcion, cantidad y precio representan las características de un producto.\n",
        "        self.id = id  # Asigna el valor del parámetro id al atributo id del producto.\n",
        "        self.nombre = nombre  # Asigna el valor del parámetro nombre al atributo nombre del producto.\n",
        "        self.descripcion = descripcion  # Asigna el valor del parámetro descripcion al atributo descripcion del producto.\n",
        "        self.cantidad = cantidad  # Asigna el valor del parámetro cantidad al atributo cantidad del producto.\n",
        "        self.precio = precio  # Asigna el valor del parámetro precio al atributo precio del producto.\n",
        "        # Al finalizar la ejecución del método __init__, el objeto Producto queda inicializado con los valores proporcionados.\n",
        "\n",
        "    def __str__(self):\n",
        "        # El método __str__ es un método especial en Python que se llama cuando se utiliza la función str() para convertir un objeto en una cadena.\n",
        "        # Devuelve una cadena formateada que representa el objeto Producto, mostrando su id, nombre, descripción, cantidad y precio.\n",
        "        return f\"ID: {self.id}, Nombre: {self.nombre}, Descripción: {self.descripcion}, Cantidad: {self.cantidad}, Precio: {self.precio}\"\n",
        "\n",
        "    def modificar_producto(self, nombre, descripcion, cantidad, precio):\n",
        "        # El método modificar_producto recibe como parámetros un nuevo nombre, descripción, cantidad y precio para actualizar los atributos del producto.\n",
        "        # Actualiza los atributos nombre, descripcion, cantidad y precio del producto con los nuevos valores proporcionados.\n",
        "        self.nombre = nombre  # Actualiza el atributo nombre del producto.\n",
        "        self.descripcion = descripcion  # Actualiza el atributo descripcion del producto.\n",
        "        self.cantidad = cantidad  # Actualiza el atributo cantidad del producto.\n",
        "        self.precio = precio  # Actualiza el atributo precio del producto.\n",
        "        # Al finalizar la ejecución del método, el producto queda modificado con los nuevos valores proporcionados.\n",
        "\n",
        "class Inventario:\n",
        "    def __init__(self):\n",
        "        # Inicializa el inventario como un diccionario vacío donde se almacenarán los productos.\n",
        "        self.productos = {}\n",
        "\n",
        "    def agregar_producto(self, producto):\n",
        "        # Agrega un producto al inventario utilizando el id del producto como clave en el diccionario de productos.\n",
        "        self.productos[producto.id] = producto\n",
        "\n",
        "    def eliminar_producto(self, id):\n",
        "        # Intenta eliminar un producto del inventario utilizando su id como clave en el diccionario.\n",
        "        # Maneja la excepción KeyError si el producto no existe en el inventario.\n",
        "        try:\n",
        "            del self.productos[id]\n",
        "        except KeyError:\n",
        "            print(\"Error: El producto no existe en el inventario.\")\n",
        "\n",
        "    def actualizar_producto(self, id, nombre, descripcion, cantidad, precio):\n",
        "        # Intenta actualizar la información de un producto en el inventario utilizando su id.\n",
        "        # Llama al método modificar_producto del producto correspondiente.\n",
        "        # Maneja la excepción KeyError si el producto no existe en el inventario.\n",
        "        try:\n",
        "            self.productos[id].modificar_producto(nombre, descripcion, cantidad, precio)\n",
        "        except KeyError:\n",
        "            print(\"Error: El producto no existe en el inventario.\")\n",
        "\n",
        "    def buscar_producto(self, id):\n",
        "        # Busca un producto en el inventario utilizando su id como clave en el diccionario.\n",
        "        # Retorna el producto si existe, o None si no se encuentra.\n",
        "        try:\n",
        "            return self.productos[id]\n",
        "        except KeyError:\n",
        "            return None\n",
        "\n",
        "    def listar_productos(self):\n",
        "        # Itera sobre el diccionario de productos e imprime la información de cada producto.\n",
        "        # Calcula la cantidad total de productos y el valor total del inventario.\n",
        "        for id, producto in self.productos.items():\n",
        "            print(producto)\n",
        "\n",
        "        total_cantidad = sum(producto.cantidad for producto in self.productos.values())\n",
        "        valor_total = sum(producto.cantidad * producto.precio for producto in self.productos.values())\n",
        "        print(f\"Total de productos: {len(self.productos)}, Cantidad total: {total_cantidad}, Valor total: {valor_total}\")\n",
        "\n",
        "# Función para mostrar el menú y manejar las opciones del usuario\n",
        "def menu():\n",
        "    # Crea un objeto Inventario para gestionar los productos.\n",
        "    inventario = Inventario()\n",
        "    while True:\n",
        "        # Muestra el menú de opciones al usuario.\n",
        "        print(\"\\nMenu:\")\n",
        "        print(\"1. Agregar producto\")\n",
        "        print(\"2. Eliminar producto\")\n",
        "        print(\"3. Actualizar producto\")\n",
        "        print(\"4. Buscar producto por ID\")\n",
        "        print(\"5. Listar todos los productos\")\n",
        "        print(\"6. Salir\")\n",
        "\n",
        "        # Solicita al usuario que seleccione una opción del menú.\n",
        "        opcion = input(\"Seleccione una opción: \")\n",
        "\n",
        "        if opcion == \"1\":\n",
        "            # Agregar un nuevo producto al inventario.\n",
        "            id = input(\"Ingrese el ID del producto: \")\n",
        "            nombre = input(\"Ingrese el nombre del producto: \")\n",
        "            descripcion = input(\"Ingrese la descripción del producto: \")\n",
        "            cantidad = int(input(\"Ingrese la cantidad del producto: \"))\n",
        "            precio = float(input(\"Ingrese el precio del producto: \"))\n",
        "            producto = Producto(id, nombre, descripcion, cantidad, precio)\n",
        "            inventario.agregar_producto(producto)\n",
        "        elif opcion == \"2\":\n",
        "            # Eliminar un producto del inventario.\n",
        "            id = input(\"Ingrese el ID del producto a eliminar: \")\n",
        "            inventario.eliminar_producto(id)\n",
        "        elif opcion == \"3\":\n",
        "            # Actualizar la información de un producto en el inventario.\n",
        "            id = input(\"Ingrese el ID del producto a actualizar: \")\n",
        "            nombre = input(\"Ingrese el nuevo nombre del producto: \")\n",
        "            descripcion = input(\"Ingrese la nueva descripción del producto: \")\n",
        "            cantidad = int(input(\"Ingrese la nueva cantidad del producto: \"))\n",
        "            precio = float(input(\"Ingrese el nuevo precio del producto: \"))\n",
        "            inventario.actualizar_producto(id, nombre, descripcion, cantidad, precio)\n",
        "        elif opcion == \"4\":\n",
        "            # Buscar un producto en el inventario por su ID.\n",
        "            id = input(\"Ingrese el ID del producto a buscar: \")\n",
        "            producto = inventario.buscar_producto(id)\n",
        "            if producto:\n",
        "                print(producto)\n",
        "            else:\n",
        "                print(\"Producto no encontrado.\")\n",
        "        elif opcion == \"5\":\n",
        "            # Listar todos los productos en el inventario.\n",
        "            inventario.listar_productos()\n",
        "        elif opcion == \"6\":\n",
        "            # Salir del programa.\n",
        "            break\n",
        "        else:\n",
        "            print(\"Opción inválida. Intente nuevamente.\")\n",
        "\n",
        "# Llama a la función menu para iniciar el programa.\n",
        "menu()"
      ],
      "metadata": {
        "colab": {
          "base_uri": "https://localhost:8080/"
        },
        "id": "LtBpKPIkLLJo",
        "outputId": "6070a92e-9e56-415c-b79c-9eb7222a0e2b"
      },
      "execution_count": null,
      "outputs": [
        {
          "metadata": {
            "tags": null
          },
          "name": "stdout",
          "output_type": "stream",
          "text": [
            "\n",
            "Menu:\n",
            "1. Agregar producto\n",
            "2. Eliminar producto\n",
            "3. Actualizar producto\n",
            "4. Buscar producto por ID\n",
            "5. Listar todos los productos\n",
            "6. Salir\n"
          ]
        }
      ]
    },
    {
      "cell_type": "markdown",
      "source": [],
      "metadata": {
        "id": "vYyKiX_XLENk"
      }
    },
    {
      "cell_type": "markdown",
      "source": [],
      "metadata": {
        "id": "m4T_AZVULEri"
      }
    }
  ]
}